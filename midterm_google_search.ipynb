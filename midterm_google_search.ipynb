{
  "nbformat": 4,
  "nbformat_minor": 0,
  "metadata": {
    "kernelspec": {
      "display_name": "Python 3",
      "language": "python",
      "name": "python3"
    },
    "language_info": {
      "codemirror_mode": {
        "name": "ipython",
        "version": 3
      },
      "file_extension": ".py",
      "mimetype": "text/x-python",
      "name": "python",
      "nbconvert_exporter": "python",
      "pygments_lexer": "ipython3",
      "version": "3.7.3"
    },
    "colab": {
      "name": "midterm google search.ipynb",
      "provenance": [],
      "collapsed_sections": []
    }
  },
  "cells": [
    {
      "cell_type": "code",
      "metadata": {
        "id": "bgcr20Eq_2-N"
      },
      "source": [
        "import urllib.request, json \n",
        "import urllib\n",
        "import jieba\n",
        "import jieba.posseg as pseg\n",
        "jieba.set_dictionary('dict.txt.big.txt')\n",
        "jieba.load_userdict(\"userdict.txt\")\n",
        "##\n",
        "with open('questions_example.json', 'r', encoding='UTF-8') as f:\n",
        "    JsonList = json.load(f)\n",
        "cnt=0\n",
        "AnswerList = []\n",
        "for ques in JsonList[:70]:\n",
        "    s = ques['Question'].encode('utf-8')\n",
        "    //Grant your token at https://developers.google.com/custom-search/v1/overview\n",
        "    myurl= \"Replace by insert api\" + urllib.parse.quote(s)\n",
        "    with urllib.request.urlopen(myurl) as url:\n",
        "        data = json.loads(url.read().decode('utf-8').encode('utf-8'))\n",
        "    A = ques['A']\n",
        "    B = ques['B']\n",
        "    C = ques['C']\n",
        "    A_score = 0\n",
        "    B_score = 0\n",
        "    C_score = 0\n",
        "    for item in data['items']:\n",
        "        if A in item['title'] or A in item['snippet']:\n",
        "             A_score += 1\n",
        "        elif B in item['title'] or B in item['snippet']:\n",
        "              B_score += 1\n",
        "        elif C in item['title'] or C in item['snippet']:\n",
        "              C_score += 1\n",
        "    if A_score > B_score and A_score > C_score:\n",
        "        AnswerList.append(\"A\")\n",
        "    elif B_score > A_score and B_score > C_score:\n",
        "        AnswerList.append(\"B\")\n",
        "    elif C_score > A_score and C_score > B_score:\n",
        "        AnswerList.append(\"C\")\n",
        "    else:\n",
        "        AnswerList.append(\"A\")\n",
        "print(AnswerList)\n"
      ],
      "execution_count": null,
      "outputs": []
    },
    {
      "cell_type": "markdown",
      "source": [
        "# 新增區段"
      ],
      "metadata": {
        "id": "vd9rmDRBmWj5"
      }
    },
    {
      "cell_type": "code",
      "metadata": {
        "id": "JpNpLaDB_2-Q"
      },
      "source": [
        ""
      ],
      "execution_count": null,
      "outputs": []
    },
    {
      "cell_type": "code",
      "metadata": {
        "id": "riAR9tRb_2-S"
      },
      "source": [
        ""
      ],
      "execution_count": null,
      "outputs": []
    }
  ]
}